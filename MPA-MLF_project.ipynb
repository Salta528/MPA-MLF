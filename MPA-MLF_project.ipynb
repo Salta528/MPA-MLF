{
 "cells": [
  {
   "cell_type": "code",
   "execution_count": 1,
   "id": "56ff991e",
   "metadata": {
    "execution": {
     "iopub.execute_input": "2025-05-04T10:38:18.638744Z",
     "iopub.status.busy": "2025-05-04T10:38:18.638447Z",
     "iopub.status.idle": "2025-05-04T10:38:36.893734Z",
     "shell.execute_reply": "2025-05-04T10:38:36.892869Z"
    },
    "papermill": {
     "duration": 18.262914,
     "end_time": "2025-05-04T10:38:36.895841",
     "exception": false,
     "start_time": "2025-05-04T10:38:18.632927",
     "status": "completed"
    },
    "tags": []
   },
   "outputs": [
    {
     "name": "stderr",
     "output_type": "stream",
     "text": [
      "2025-05-04 10:38:23.457242: E external/local_xla/xla/stream_executor/cuda/cuda_fft.cc:477] Unable to register cuFFT factory: Attempting to register factory for plugin cuFFT when one has already been registered\n",
      "WARNING: All log messages before absl::InitializeLog() is called are written to STDERR\n",
      "E0000 00:00:1746355103.682984      13 cuda_dnn.cc:8310] Unable to register cuDNN factory: Attempting to register factory for plugin cuDNN when one has already been registered\n",
      "E0000 00:00:1746355103.746998      13 cuda_blas.cc:1418] Unable to register cuBLAS factory: Attempting to register factory for plugin cuBLAS when one has already been registered\n"
     ]
    }
   ],
   "source": [
    "import numpy as np\n",
    "import pandas as pd\n",
    "import os\n",
    "from sklearn.model_selection import train_test_split\n",
    "from sklearn.preprocessing import StandardScaler\n",
    "from scipy.ndimage import shift\n",
    "import tensorflow as tf\n",
    "from tensorflow.keras import layers, models\n",
    "import matplotlib.pyplot as plt\n",
    "import zipfile\n",
    "import seaborn as sns\n",
    "import matplotlib.pyplot as plt\n",
    "from sklearn.metrics import confusion_matrix\n",
    "from tensorflow.keras.layers import InputLayer, Conv2D, MaxPooling2D, Reshape, Bidirectional, GRU, Dropout, Flatten, Dense\n",
    "from tensorflow.keras.regularizers import l2"
   ]
  },
  {
   "cell_type": "code",
   "execution_count": 2,
   "id": "48143da6",
   "metadata": {
    "execution": {
     "iopub.execute_input": "2025-05-04T10:38:36.905401Z",
     "iopub.status.busy": "2025-05-04T10:38:36.904123Z",
     "iopub.status.idle": "2025-05-04T10:38:36.912538Z",
     "shell.execute_reply": "2025-05-04T10:38:36.911609Z"
    },
    "papermill": {
     "duration": 0.01374,
     "end_time": "2025-05-04T10:38:36.913894",
     "exception": false,
     "start_time": "2025-05-04T10:38:36.900154",
     "status": "completed"
    },
    "tags": []
   },
   "outputs": [
    {
     "name": "stdout",
     "output_type": "stream",
     "text": [
      "['label_train.csv', 'test_format.csv', 'Test', 'Train']\n"
     ]
    }
   ],
   "source": [
    "import os\n",
    "\n",
    "dataset_path = \"/kaggle/input/mpa-mlf-data-new/\"\n",
    "print(os.listdir(dataset_path))"
   ]
  },
  {
   "cell_type": "code",
   "execution_count": 3,
   "id": "4eef44ea",
   "metadata": {
    "execution": {
     "iopub.execute_input": "2025-05-04T10:38:36.921881Z",
     "iopub.status.busy": "2025-05-04T10:38:36.921152Z",
     "iopub.status.idle": "2025-05-04T10:38:46.398370Z",
     "shell.execute_reply": "2025-05-04T10:38:46.397439Z"
    },
    "papermill": {
     "duration": 9.482727,
     "end_time": "2025-05-04T10:38:46.400089",
     "exception": false,
     "start_time": "2025-05-04T10:38:36.917362",
     "status": "completed"
    },
    "tags": []
   },
   "outputs": [],
   "source": [
    "# train_folder = \"/content/MPA-MLF_DATA_NEW/Train\"\n",
    "# test_folder = \"/content/MPA-MLF_DATA_NEW/Test\"\n",
    "# label_train_path = \"/content/MPA-MLF_DATA_NEW/label_train.csv\"\n",
    "# test_format_path = \"/content/MPA-MLF_DATA_NEW/test_format.csv\"\n",
    "\n",
    "\n",
    "train_folder = os.path.join(dataset_path, \"Train\") \n",
    "test_folder = os.path.join(dataset_path, \"Test\")\n",
    "label_train_path = os.path.join(dataset_path, \"label_train.csv\")\n",
    "test_format_path = os.path.join(dataset_path, \"test_format.csv\")\n",
    "\n",
    "\n",
    "label_train_data = np.loadtxt(label_train_path, delimiter=',', skiprows=1, dtype=int)\n",
    "\n",
    "X_train = []\n",
    "for id in label_train_data[:, 0]:\n",
    "    X_train.append(np.load(f\"{train_folder}/{id}.npy\"))\n",
    "X_train = np.stack(X_train)\n",
    "\n",
    "# X_train = np.stack([np.load(f\"{train_folder}/{id}.npy\") for id in label_train_data[:, 0]])\n",
    "y_train = label_train_data[:, 1]\n",
    "\n",
    "test_format_data = np.loadtxt(test_format_path, delimiter=',', skiprows=1, dtype=int)\n",
    "X_test = []\n",
    "for id in test_format_data[:, 0]:\n",
    "    X_test.append(np.load(f\"{test_folder}/{id}.npy\"))\n",
    "# y_test =test_format_data[:, 1]\n",
    "X_test = np.stack(X_test)\n"
   ]
  },
  {
   "cell_type": "code",
   "execution_count": 4,
   "id": "0229586e",
   "metadata": {
    "execution": {
     "iopub.execute_input": "2025-05-04T10:38:46.408648Z",
     "iopub.status.busy": "2025-05-04T10:38:46.407674Z",
     "iopub.status.idle": "2025-05-04T10:38:46.412956Z",
     "shell.execute_reply": "2025-05-04T10:38:46.412327Z"
    },
    "papermill": {
     "duration": 0.010717,
     "end_time": "2025-05-04T10:38:46.414399",
     "exception": false,
     "start_time": "2025-05-04T10:38:46.403682",
     "status": "completed"
    },
    "tags": []
   },
   "outputs": [],
   "source": [
    "def augment(sample, max_shift=2):\n",
    "    time_shift = shift(sample, [0, np.random.randint(-max_shift, max_shift+1)], mode='nearest')\n",
    "    freq_shift = shift(sample, [np.random.randint(-max_shift, max_shift+1), 0], mode='nearest')\n",
    "    noise = sample + np.random.normal(0, 0.01, sample.shape)\n",
    "    return [sample, time_shift, freq_shift, noise]"
   ]
  },
  {
   "cell_type": "code",
   "execution_count": 5,
   "id": "9d7b4a48",
   "metadata": {
    "execution": {
     "iopub.execute_input": "2025-05-04T10:38:46.423410Z",
     "iopub.status.busy": "2025-05-04T10:38:46.423086Z",
     "iopub.status.idle": "2025-05-04T10:38:46.427218Z",
     "shell.execute_reply": "2025-05-04T10:38:46.426563Z"
    },
    "papermill": {
     "duration": 0.009276,
     "end_time": "2025-05-04T10:38:46.428477",
     "exception": false,
     "start_time": "2025-05-04T10:38:46.419201",
     "status": "completed"
    },
    "tags": []
   },
   "outputs": [],
   "source": [
    "X, y = [], []\n",
    "X = np.array(X)\n",
    "y = np.array(y)\n",
    "X = X_train\n",
    "y = y_train"
   ]
  },
  {
   "cell_type": "code",
   "execution_count": 6,
   "id": "f6e8b4bf",
   "metadata": {
    "execution": {
     "iopub.execute_input": "2025-05-04T10:38:46.436117Z",
     "iopub.status.busy": "2025-05-04T10:38:46.435509Z",
     "iopub.status.idle": "2025-05-04T10:38:46.464461Z",
     "shell.execute_reply": "2025-05-04T10:38:46.463487Z"
    },
    "papermill": {
     "duration": 0.034403,
     "end_time": "2025-05-04T10:38:46.466110",
     "exception": false,
     "start_time": "2025-05-04T10:38:46.431707",
     "status": "completed"
    },
    "tags": []
   },
   "outputs": [],
   "source": [
    "X_train_splitted, X_val, y_train_splitted, y_val = train_test_split(\n",
    "    X, y, test_size=0.2, random_state=42, stratify=y\n",
    ")"
   ]
  },
  {
   "cell_type": "code",
   "execution_count": 7,
   "id": "3a068466",
   "metadata": {
    "execution": {
     "iopub.execute_input": "2025-05-04T10:38:46.473959Z",
     "iopub.status.busy": "2025-05-04T10:38:46.473633Z",
     "iopub.status.idle": "2025-05-04T10:38:48.545653Z",
     "shell.execute_reply": "2025-05-04T10:38:48.544952Z"
    },
    "papermill": {
     "duration": 2.077557,
     "end_time": "2025-05-04T10:38:48.547199",
     "exception": false,
     "start_time": "2025-05-04T10:38:46.469642",
     "status": "completed"
    },
    "tags": []
   },
   "outputs": [],
   "source": [
    "X_train_aug = []\n",
    "y_train_aug = []\n",
    "for x, y in zip(X_train, y_train):\n",
    "    variants = augment(x)\n",
    "    X_train_aug.extend(variants)\n",
    "    y_train_aug.extend([y] * len(variants))"
   ]
  },
  {
   "cell_type": "code",
   "execution_count": 8,
   "id": "78dabd54",
   "metadata": {
    "execution": {
     "iopub.execute_input": "2025-05-04T10:38:48.554780Z",
     "iopub.status.busy": "2025-05-04T10:38:48.554225Z",
     "iopub.status.idle": "2025-05-04T10:38:49.017712Z",
     "shell.execute_reply": "2025-05-04T10:38:49.016964Z"
    },
    "papermill": {
     "duration": 0.468682,
     "end_time": "2025-05-04T10:38:49.019218",
     "exception": false,
     "start_time": "2025-05-04T10:38:48.550536",
     "status": "completed"
    },
    "tags": []
   },
   "outputs": [],
   "source": [
    "                                                                                                \n",
    "X_train = np.array(X_train_aug).reshape(len(X_train_aug), -1)\n",
    "X_val = X_val.reshape(len(X_val), -1)\n",
    "y_train = np.array(y_train_aug)\n",
    "\n",
    "\n",
    "scaler = StandardScaler()\n",
    "X_train = scaler.fit_transform(X_train)\n",
    "X_val = scaler.transform(X_val)"
   ]
  },
  {
   "cell_type": "code",
   "execution_count": 9,
   "id": "8027de15",
   "metadata": {
    "execution": {
     "iopub.execute_input": "2025-05-04T10:38:49.027130Z",
     "iopub.status.busy": "2025-05-04T10:38:49.026832Z",
     "iopub.status.idle": "2025-05-04T10:38:49.030623Z",
     "shell.execute_reply": "2025-05-04T10:38:49.029990Z"
    },
    "papermill": {
     "duration": 0.009193,
     "end_time": "2025-05-04T10:38:49.031899",
     "exception": false,
     "start_time": "2025-05-04T10:38:49.022706",
     "status": "completed"
    },
    "tags": []
   },
   "outputs": [],
   "source": [
    "# def create_model_cnn(input_shape):\n",
    "#     model = models.Sequential([\n",
    "#         layers.Reshape((input_shape[0], input_shape[1], 1)),\n",
    "        \n",
    "#         layers.Conv2D(32, (3, 3), activation='relu', padding='same'),\n",
    "#         layers.MaxPooling2D((2, 2)),\n",
    "        \n",
    "#         layers.Conv2D(64, (3, 3), activation='relu', padding='same'),\n",
    "#         layers.MaxPooling2D((2, 2)),\n",
    "        \n",
    "#         layers.Flatten(),\n",
    "#         layers.Dense(64, activation='relu'),\n",
    "#         layers.Dense(3, activation='softmax')  # 3 класса\n",
    "#     ])\n",
    "    \n",
    "#     model.compile(optimizer='adam', \n",
    "#                  loss='sparse_categorical_crossentropy', \n",
    "#                  metrics=['accuracy'])\n",
    "#     return model"
   ]
  },
  {
   "cell_type": "code",
   "execution_count": 10,
   "id": "a3075f3b",
   "metadata": {
    "execution": {
     "iopub.execute_input": "2025-05-04T10:38:49.039604Z",
     "iopub.status.busy": "2025-05-04T10:38:49.038785Z",
     "iopub.status.idle": "2025-05-04T10:38:49.092249Z",
     "shell.execute_reply": "2025-05-04T10:38:49.091292Z"
    },
    "papermill": {
     "duration": 0.058625,
     "end_time": "2025-05-04T10:38:49.093694",
     "exception": false,
     "start_time": "2025-05-04T10:38:49.035069",
     "status": "completed"
    },
    "tags": []
   },
   "outputs": [
    {
     "name": "stderr",
     "output_type": "stream",
     "text": [
      "2025-05-04 10:38:49.051488: E external/local_xla/xla/stream_executor/cuda/cuda_driver.cc:152] failed call to cuInit: INTERNAL: CUDA error: Failed call to cuInit: UNKNOWN ERROR (303)\n"
     ]
    }
   ],
   "source": [
    "model = models.Sequential([\n",
    "        layers.Reshape((72,48, 1)),\n",
    "layers.Conv2D(32, (3, 3), activation='relu', padding='same'),\n",
    "        layers.MaxPooling2D((2, 2)),\n",
    "        \n",
    "        layers.Conv2D(64, (3, 3), activation='relu', padding='same'),\n",
    "        layers.MaxPooling2D((2, 2)),\n",
    "        \n",
    "        layers.Flatten(),\n",
    "        layers.Dense(64, activation='relu'),\n",
    "        layers.Dense(3, activation='softmax')  \n",
    "    ])\n",
    "    \n",
    "model.compile(optimizer='adam', \n",
    "                 loss='sparse_categorical_crossentropy', \n",
    "                 metrics=['accuracy'])"
   ]
  },
  {
   "cell_type": "code",
   "execution_count": 11,
   "id": "3cc2c5ec",
   "metadata": {
    "execution": {
     "iopub.execute_input": "2025-05-04T10:38:49.101141Z",
     "iopub.status.busy": "2025-05-04T10:38:49.100849Z",
     "iopub.status.idle": "2025-05-04T10:46:40.044396Z",
     "shell.execute_reply": "2025-05-04T10:46:40.043555Z"
    },
    "papermill": {
     "duration": 470.948976,
     "end_time": "2025-05-04T10:46:40.046038",
     "exception": false,
     "start_time": "2025-05-04T10:38:49.097062",
     "status": "completed"
    },
    "tags": []
   },
   "outputs": [
    {
     "name": "stdout",
     "output_type": "stream",
     "text": [
      "Epoch 1/30\n",
      "\u001b[1m187/187\u001b[0m \u001b[32m━━━━━━━━━━━━━━━━━━━━\u001b[0m\u001b[37m\u001b[0m \u001b[1m18s\u001b[0m 80ms/step - accuracy: 0.9249 - loss: 0.2544 - val_accuracy: 1.0000 - val_loss: 0.0027\n",
      "Epoch 2/30\n",
      "\u001b[1m187/187\u001b[0m \u001b[32m━━━━━━━━━━━━━━━━━━━━\u001b[0m\u001b[37m\u001b[0m \u001b[1m20s\u001b[0m 77ms/step - accuracy: 0.9973 - loss: 0.0089 - val_accuracy: 1.0000 - val_loss: 0.0019\n",
      "Epoch 3/30\n",
      "\u001b[1m187/187\u001b[0m \u001b[32m━━━━━━━━━━━━━━━━━━━━\u001b[0m\u001b[37m\u001b[0m \u001b[1m15s\u001b[0m 80ms/step - accuracy: 0.9999 - loss: 8.3313e-04 - val_accuracy: 1.0000 - val_loss: 2.1754e-04\n",
      "Epoch 4/30\n",
      "\u001b[1m187/187\u001b[0m \u001b[32m━━━━━━━━━━━━━━━━━━━━\u001b[0m\u001b[37m\u001b[0m \u001b[1m14s\u001b[0m 77ms/step - accuracy: 0.9972 - loss: 0.0071 - val_accuracy: 1.0000 - val_loss: 0.0045\n",
      "Epoch 5/30\n",
      "\u001b[1m187/187\u001b[0m \u001b[32m━━━━━━━━━━━━━━━━━━━━\u001b[0m\u001b[37m\u001b[0m \u001b[1m14s\u001b[0m 76ms/step - accuracy: 0.9996 - loss: 0.0020 - val_accuracy: 1.0000 - val_loss: 0.0039\n",
      "Epoch 6/30\n",
      "\u001b[1m187/187\u001b[0m \u001b[32m━━━━━━━━━━━━━━━━━━━━\u001b[0m\u001b[37m\u001b[0m \u001b[1m15s\u001b[0m 80ms/step - accuracy: 0.9997 - loss: 0.0019 - val_accuracy: 1.0000 - val_loss: 0.0041\n",
      "Epoch 7/30\n",
      "\u001b[1m187/187\u001b[0m \u001b[32m━━━━━━━━━━━━━━━━━━━━\u001b[0m\u001b[37m\u001b[0m \u001b[1m14s\u001b[0m 77ms/step - accuracy: 1.0000 - loss: 0.0011 - val_accuracy: 1.0000 - val_loss: 1.5214e-04\n",
      "Epoch 8/30\n",
      "\u001b[1m187/187\u001b[0m \u001b[32m━━━━━━━━━━━━━━━━━━━━\u001b[0m\u001b[37m\u001b[0m \u001b[1m15s\u001b[0m 80ms/step - accuracy: 1.0000 - loss: 9.4791e-05 - val_accuracy: 1.0000 - val_loss: 4.9216e-05\n",
      "Epoch 9/30\n",
      "\u001b[1m187/187\u001b[0m \u001b[32m━━━━━━━━━━━━━━━━━━━━\u001b[0m\u001b[37m\u001b[0m \u001b[1m14s\u001b[0m 77ms/step - accuracy: 1.0000 - loss: 6.0815e-05 - val_accuracy: 1.0000 - val_loss: 3.2539e-05\n",
      "Epoch 10/30\n",
      "\u001b[1m187/187\u001b[0m \u001b[32m━━━━━━━━━━━━━━━━━━━━\u001b[0m\u001b[37m\u001b[0m \u001b[1m15s\u001b[0m 80ms/step - accuracy: 1.0000 - loss: 2.9016e-05 - val_accuracy: 1.0000 - val_loss: 2.8872e-05\n",
      "Epoch 11/30\n",
      "\u001b[1m187/187\u001b[0m \u001b[32m━━━━━━━━━━━━━━━━━━━━\u001b[0m\u001b[37m\u001b[0m \u001b[1m14s\u001b[0m 77ms/step - accuracy: 1.0000 - loss: 2.5790e-05 - val_accuracy: 1.0000 - val_loss: 1.8919e-05\n",
      "Epoch 12/30\n",
      "\u001b[1m187/187\u001b[0m \u001b[32m━━━━━━━━━━━━━━━━━━━━\u001b[0m\u001b[37m\u001b[0m \u001b[1m21s\u001b[0m 79ms/step - accuracy: 1.0000 - loss: 1.7117e-05 - val_accuracy: 1.0000 - val_loss: 1.3831e-05\n",
      "Epoch 13/30\n",
      "\u001b[1m187/187\u001b[0m \u001b[32m━━━━━━━━━━━━━━━━━━━━\u001b[0m\u001b[37m\u001b[0m \u001b[1m20s\u001b[0m 76ms/step - accuracy: 1.0000 - loss: 1.3765e-05 - val_accuracy: 1.0000 - val_loss: 9.2515e-06\n",
      "Epoch 14/30\n",
      "\u001b[1m187/187\u001b[0m \u001b[32m━━━━━━━━━━━━━━━━━━━━\u001b[0m\u001b[37m\u001b[0m \u001b[1m15s\u001b[0m 80ms/step - accuracy: 1.0000 - loss: 1.2742e-05 - val_accuracy: 1.0000 - val_loss: 7.1886e-06\n",
      "Epoch 15/30\n",
      "\u001b[1m187/187\u001b[0m \u001b[32m━━━━━━━━━━━━━━━━━━━━\u001b[0m\u001b[37m\u001b[0m \u001b[1m14s\u001b[0m 76ms/step - accuracy: 1.0000 - loss: 9.8139e-06 - val_accuracy: 1.0000 - val_loss: 6.5695e-06\n",
      "Epoch 16/30\n",
      "\u001b[1m187/187\u001b[0m \u001b[32m━━━━━━━━━━━━━━━━━━━━\u001b[0m\u001b[37m\u001b[0m \u001b[1m15s\u001b[0m 80ms/step - accuracy: 1.0000 - loss: 6.9750e-06 - val_accuracy: 1.0000 - val_loss: 5.5578e-06\n",
      "Epoch 17/30\n",
      "\u001b[1m187/187\u001b[0m \u001b[32m━━━━━━━━━━━━━━━━━━━━\u001b[0m\u001b[37m\u001b[0m \u001b[1m14s\u001b[0m 77ms/step - accuracy: 1.0000 - loss: 5.5809e-06 - val_accuracy: 1.0000 - val_loss: 5.0200e-06\n",
      "Epoch 18/30\n",
      "\u001b[1m187/187\u001b[0m \u001b[32m━━━━━━━━━━━━━━━━━━━━\u001b[0m\u001b[37m\u001b[0m \u001b[1m15s\u001b[0m 80ms/step - accuracy: 1.0000 - loss: 4.5838e-06 - val_accuracy: 1.0000 - val_loss: 4.7163e-06\n",
      "Epoch 19/30\n",
      "\u001b[1m187/187\u001b[0m \u001b[32m━━━━━━━━━━━━━━━━━━━━\u001b[0m\u001b[37m\u001b[0m \u001b[1m14s\u001b[0m 77ms/step - accuracy: 1.0000 - loss: 6.1083e-06 - val_accuracy: 1.0000 - val_loss: 3.4716e-06\n",
      "Epoch 20/30\n",
      "\u001b[1m187/187\u001b[0m \u001b[32m━━━━━━━━━━━━━━━━━━━━\u001b[0m\u001b[37m\u001b[0m \u001b[1m15s\u001b[0m 80ms/step - accuracy: 1.0000 - loss: 4.4088e-06 - val_accuracy: 1.0000 - val_loss: 3.2472e-06\n",
      "Epoch 21/30\n",
      "\u001b[1m187/187\u001b[0m \u001b[32m━━━━━━━━━━━━━━━━━━━━\u001b[0m\u001b[37m\u001b[0m \u001b[1m14s\u001b[0m 77ms/step - accuracy: 1.0000 - loss: 3.9442e-06 - val_accuracy: 1.0000 - val_loss: 2.6536e-06\n",
      "Epoch 22/30\n",
      "\u001b[1m187/187\u001b[0m \u001b[32m━━━━━━━━━━━━━━━━━━━━\u001b[0m\u001b[37m\u001b[0m \u001b[1m14s\u001b[0m 77ms/step - accuracy: 1.0000 - loss: 3.5432e-06 - val_accuracy: 1.0000 - val_loss: 2.4423e-06\n",
      "Epoch 23/30\n",
      "\u001b[1m187/187\u001b[0m \u001b[32m━━━━━━━━━━━━━━━━━━━━\u001b[0m\u001b[37m\u001b[0m \u001b[1m15s\u001b[0m 79ms/step - accuracy: 1.0000 - loss: 2.5629e-06 - val_accuracy: 1.0000 - val_loss: 2.1800e-06\n",
      "Epoch 24/30\n",
      "\u001b[1m187/187\u001b[0m \u001b[32m━━━━━━━━━━━━━━━━━━━━\u001b[0m\u001b[37m\u001b[0m \u001b[1m14s\u001b[0m 77ms/step - accuracy: 1.0000 - loss: 2.8232e-06 - val_accuracy: 1.0000 - val_loss: 1.8032e-06\n",
      "Epoch 25/30\n",
      "\u001b[1m187/187\u001b[0m \u001b[32m━━━━━━━━━━━━━━━━━━━━\u001b[0m\u001b[37m\u001b[0m \u001b[1m21s\u001b[0m 77ms/step - accuracy: 1.0000 - loss: 2.0242e-06 - val_accuracy: 1.0000 - val_loss: 1.6063e-06\n",
      "Epoch 26/30\n",
      "\u001b[1m187/187\u001b[0m \u001b[32m━━━━━━━━━━━━━━━━━━━━\u001b[0m\u001b[37m\u001b[0m \u001b[1m21s\u001b[0m 80ms/step - accuracy: 1.0000 - loss: 1.9071e-06 - val_accuracy: 1.0000 - val_loss: 1.4596e-06\n",
      "Epoch 27/30\n",
      "\u001b[1m187/187\u001b[0m \u001b[32m━━━━━━━━━━━━━━━━━━━━\u001b[0m\u001b[37m\u001b[0m \u001b[1m14s\u001b[0m 77ms/step - accuracy: 1.0000 - loss: 1.4869e-06 - val_accuracy: 1.0000 - val_loss: 1.4265e-06\n",
      "Epoch 28/30\n",
      "\u001b[1m187/187\u001b[0m \u001b[32m━━━━━━━━━━━━━━━━━━━━\u001b[0m\u001b[37m\u001b[0m \u001b[1m15s\u001b[0m 79ms/step - accuracy: 1.0000 - loss: 1.1663e-06 - val_accuracy: 1.0000 - val_loss: 1.2164e-06\n",
      "Epoch 29/30\n",
      "\u001b[1m187/187\u001b[0m \u001b[32m━━━━━━━━━━━━━━━━━━━━\u001b[0m\u001b[37m\u001b[0m \u001b[1m15s\u001b[0m 79ms/step - accuracy: 1.0000 - loss: 8.8998e-07 - val_accuracy: 1.0000 - val_loss: 1.2295e-06\n",
      "Epoch 30/30\n",
      "\u001b[1m187/187\u001b[0m \u001b[32m━━━━━━━━━━━━━━━━━━━━\u001b[0m\u001b[37m\u001b[0m \u001b[1m14s\u001b[0m 77ms/step - accuracy: 1.0000 - loss: 9.2279e-07 - val_accuracy: 1.0000 - val_loss: 1.1056e-06\n"
     ]
    }
   ],
   "source": [
    "\n",
    "history = model.fit(\n",
    "    X_train, y_train,\n",
    "    validation_data=(X_val, y_val),\n",
    "    epochs=30,            \n",
    "    batch_size=32,\n",
    "    verbose=1\n",
    ")\n",
    "                    "
   ]
  },
  {
   "cell_type": "code",
   "execution_count": 12,
   "id": "9c35e296",
   "metadata": {
    "execution": {
     "iopub.execute_input": "2025-05-04T10:46:40.599660Z",
     "iopub.status.busy": "2025-05-04T10:46:40.599363Z",
     "iopub.status.idle": "2025-05-04T10:46:40.887558Z",
     "shell.execute_reply": "2025-05-04T10:46:40.886452Z"
    },
    "papermill": {
     "duration": 0.569229,
     "end_time": "2025-05-04T10:46:40.889084",
     "exception": false,
     "start_time": "2025-05-04T10:46:40.319855",
     "status": "completed"
    },
    "tags": []
   },
   "outputs": [
    {
     "name": "stdout",
     "output_type": "stream",
     "text": [
      "Validation loss: 1.1055561799366842e-06\n",
      "Validation accuracy: 100.0 %\n"
     ]
    }
   ],
   "source": [
    "val_score = model.evaluate(X_val, y_val, verbose=0)\n",
    "print('Validation loss:', val_score[0])\n",
    "print(f'Validation accuracy: {val_score[1]*100} %')"
   ]
  },
  {
   "cell_type": "code",
   "execution_count": 13,
   "id": "d40b1955",
   "metadata": {
    "execution": {
     "iopub.execute_input": "2025-05-04T10:46:41.514399Z",
     "iopub.status.busy": "2025-05-04T10:46:41.513495Z",
     "iopub.status.idle": "2025-05-04T10:46:42.302022Z",
     "shell.execute_reply": "2025-05-04T10:46:42.301125Z"
    },
    "papermill": {
     "duration": 1.131838,
     "end_time": "2025-05-04T10:46:42.303753",
     "exception": false,
     "start_time": "2025-05-04T10:46:41.171915",
     "status": "completed"
    },
    "tags": []
   },
   "outputs": [
    {
     "name": "stdout",
     "output_type": "stream",
     "text": [
      "\u001b[1m10/10\u001b[0m \u001b[32m━━━━━━━━━━━━━━━━━━━━\u001b[0m\u001b[37m\u001b[0m \u001b[1m0s\u001b[0m 28ms/step\n"
     ]
    },
    {
     "data": {
      "image/png": "[encoded data removed]",
      "text/plain": [
       "<Figure size 800x600 with 2 Axes>"
      ]
     },
     "metadata": {},
     "output_type": "display_data"
    }
   ],
   "source": [
    "y_val_pred = model.predict(X_val)\n",
    "y_val_pred_classes = np.argmax(y_val_pred, axis=1)\n",
    "\n",
    "\n",
    "from sklearn.metrics import confusion_matrix\n",
    "import seaborn as sns\n",
    "import matplotlib.pyplot as plt\n",
    "\n",
    "labels = ['0', '1', '2']\n",
    "cm = confusion_matrix(y_val, y_val_pred_classes)\n",
    "\n",
    "plt.figure(figsize=(8, 6))\n",
    "sns.heatmap(cm, annot=True, fmt='d', cmap='Blues', xticklabels=labels, yticklabels=labels)\n",
    "plt.title('Confusion Matrix on Validation Data')\n",
    "plt.xlabel('Predicted Label')\n",
    "plt.ylabel('True Label')\n",
    "plt.show()"
   ]
  },
  {
   "cell_type": "code",
   "execution_count": 14,
   "id": "2586c2c3",
   "metadata": {
    "execution": {
     "iopub.execute_input": "2025-05-04T10:46:42.950434Z",
     "iopub.status.busy": "2025-05-04T10:46:42.950102Z",
     "iopub.status.idle": "2025-05-04T10:46:43.111717Z",
     "shell.execute_reply": "2025-05-04T10:46:43.110836Z"
    },
    "papermill": {
     "duration": 0.484393,
     "end_time": "2025-05-04T10:46:43.113164",
     "exception": false,
     "start_time": "2025-05-04T10:46:42.628771",
     "status": "completed"
    },
    "tags": []
   },
   "outputs": [
    {
     "data": {
      "image/png": "[encoded data removed]",
      "text/plain": [
       "<Figure size 640x480 with 1 Axes>"
      ]
     },
     "metadata": {},
     "output_type": "display_data"
    }
   ],
   "source": [
    "plt.plot(history.history['accuracy'], label='train accuracy')\n",
    "plt.plot(history.history['val_accuracy'], label='val accuracy')\n",
    "plt.xlabel('Epoch')\n",
    "plt.ylabel('Accuracy')\n",
    "plt.legend()\n",
    "plt.show()"
   ]
  },
  {
   "cell_type": "code",
   "execution_count": 15,
   "id": "35366fbc",
   "metadata": {
    "execution": {
     "iopub.execute_input": "2025-05-04T10:46:43.737684Z",
     "iopub.status.busy": "2025-05-04T10:46:43.737358Z",
     "iopub.status.idle": "2025-05-04T10:46:43.904629Z",
     "shell.execute_reply": "2025-05-04T10:46:43.903943Z"
    },
    "papermill": {
     "duration": 0.513618,
     "end_time": "2025-05-04T10:46:43.906093",
     "exception": false,
     "start_time": "2025-05-04T10:46:43.392475",
     "status": "completed"
    },
    "tags": []
   },
   "outputs": [
    {
     "name": "stdout",
     "output_type": "stream",
     "text": [
      "\u001b[1m4/4\u001b[0m \u001b[32m━━━━━━━━━━━━━━━━━━━━\u001b[0m\u001b[37m\u001b[0m \u001b[1m0s\u001b[0m 19ms/step\n"
     ]
    }
   ],
   "source": [
    "X_test_flat = X_test.reshape(len(X_test), -1)\n",
    "X_test_scaled = scaler.transform(X_test_flat)\n",
    "\n",
    "\n",
    "test_pred = model.predict(X_test_scaled)\n",
    "test_pred_classes = np.argmax(test_pred, axis=1)\n",
    "\n",
    "submission = pd.DataFrame({\n",
    "    \"ID\": test_format_data[:, 0],\n",
    "    \"target\": test_pred_classes  \n",
    "})\n",
    "\n",
    "submission.to_csv(\"/kaggle/working/submission.csv\", index=False)"
   ]
  }
 ],
 "metadata": {
  "kaggle": {
   "accelerator": "none",
   "dataSources": [
    {
     "databundleVersionId": 11722905,
     "sourceId": 98209,
     "sourceType": "competition"
    },
    {
     "datasetId": 7322333,
     "sourceId": 11667232,
     "sourceType": "datasetVersion"
    }
   ],
   "dockerImageVersionId": 31012,
   "isGpuEnabled": false,
   "isInternetEnabled": false,
   "language": "python",
   "sourceType": "notebook"
  },
  "kernelspec": {
   "display_name": "Python 3",
   "language": "python",
   "name": "python3"
  },
  "language_info": {
   "codemirror_mode": {
    "name": "ipython",
    "version": 3
   },
   "file_extension": ".py",
   "mimetype": "text/x-python",
   "name": "python",
   "nbconvert_exporter": "python",
   "pygments_lexer": "ipython3",
   "version": "3.11.11"
  },
  "papermill": {
   "default_parameters": {},
   "duration": 513.62388,
   "end_time": "2025-05-04T10:46:47.821361",
   "environment_variables": {},
   "exception": null,
   "input_path": "__notebook__.ipynb",
   "output_path": "__notebook__.ipynb",
   "parameters": {},
   "start_time": "2025-05-04T10:38:14.197481",
   "version": "2.6.0"
  }
 },
 "nbformat": 4,
 "nbformat_minor": 5
}
