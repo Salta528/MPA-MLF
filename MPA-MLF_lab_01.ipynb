{
  "cells": [
    {
      "cell_type": "markdown",
      "metadata": {
        "id": "view-in-github",
        "colab_type": "text"
      },
      "source": [
        "<a href=\"https://colab.research.google.com/github/Salta528/MPA-MLF/blob/main/MPA-MLF_lab_01.ipynb\" target=\"_parent\"><img src=\"https://colab.research.google.com/assets/colab-badge.svg\" alt=\"Open In Colab\"/></a>"
      ]
    },
    {
      "cell_type": "markdown",
      "metadata": {
        "id": "z2Jdst0Khkeh"
      },
      "source": [
        "# Exercise 1"
      ]
    },
    {
      "cell_type": "markdown",
      "metadata": {
        "id": "KRXlDdBZ84Vk"
      },
      "source": [
        "## Exercise 1.1"
      ]
    },
    {
      "cell_type": "markdown",
      "metadata": {
        "id": "4mKrJYuxiFmd"
      },
      "source": [
        "write a code that prints the following pattern. Try to use as few loops as possible.\n",
        "\n",
        "![image.png](data:image/png;base64,iVBORw0KGgoAAAANSUhEUgAAAE8AAACwCAYAAABO8DNKAAAEBElEQVR4nO2csXGrQBRF7/5xEVYnUuYOIFTo0CX8DqAEdwChS3CGOkFd7A+QJbSgP4a7gt3lnhkHZiSzPoCkdzSDsdZaiFn8WXsBMSN5BHfyznUOY3LU597GUzncJjqsQ1PAIqts2/1mC8AWjfsoYa21xlr3DeOE0hyAxuLt2+CABvbvfp0jGzgvw017vFcZdgcDIEPVStxDxk/I7nKFrtf/MiqvKWCB7kf+HjOU1xQWyGzV/kgsrPyN48hrbZX1L9fu8s2qdvGFxcCdvNEzrSl0+T5g5KOK+C0azwgkj0DyCCSPQPIIJI9A8ggkj0DyCDxm+BNKY2DKU/8vos7dbQnhzmtUhm8rm/Ue31ZZ72+lh/cMf65z7Ooj2k/gY1fj2H7h+Or5iIfCmNG2yi4xtOt607hU6A2U6Kdk+E7+HPFx4T/DX173ACT9emet9wzfK9EXiSlXaL8Zvife2p/LN93vQPxl+NEz7XIwEr18leEJNJ4RSB6B5BFIHoHkEUgegeQRSB6B5BEEk+FPpYExJe6eXeeDbUHhzmvrZXgnSrSVzQJvgiM97yasKaYH0auwOf/89TmdyNBzVnAZ/hZiw09Z4WX4iCJqYBn+8ro3+6xflqAy/K08xxFRA8rwzr6cd+4QCSTDjz8u9K8wleEJNJ4RSB6B5BFIHoHkEUgegeQRSB6B5BGkkeHPNXJjkN8vHOVgm2fceS3aDO9EiTkVfCpJZfjreptikRKdVobvhdglSnRyGX7J25mkleEv7XHuWT+VhDJ8r0QvdDuTZDK8u6/7Tw3PIY0MP7rG599MTBmeQOMZgeQRSB6B5BFIHoHkEUgegeQRSB6BMjyz7uGYuMEMP3PdyvDEupXhb3uevG5l+LtdT1u3Mvx119PXrQxPrFsZnli3MjyxbmV4Ao1nBJJHIHkEkkcgeQSSRyB5BJJHIHkEyvAMwzFxgxl+JsrwBMrwBMrwBMrwBMrwBMrwBMrwBMrwBBrPCCSPQPIIJI9A8ggkj0DyCCSPQPII0sjwazEcEyPN8CuQVIZfmrQy/MIkl+GXJK0MvzAJZfjlSSbDr0EaGX4llOEJNJ4RSB6B5BFIHoHkEUgegeQRSB6B5BEEk+GjxJ3X1svw8TEy255QmgPQWLx9GxzQwP7d//pgnOscu/qI9hP42NU4tl84vno+4qEwZnTNDB8T4WX4iAgsw8dFUBk+NgLK8PERSIaPE2V4Ao1nBJJHIHkEkkcgeQSSRyB5BJJHIHkEHjP8BnHnNSrDbwzvGX5LvAw37fFeZdgdDIAMVStxDxk/IZ9/c4MU8J/hN4TnDL8t/Gb4jeEvw28QZXgCjWcEkkcgeQSSRyB5BJJHIHkEkkcgeQSSRyB5BP8A6GfFYXaAVpYAAAAASUVORK5CYII=)\n",
        "\n",
        "Avoid using trivial solutions like:\n",
        "\n",
        "print('X')\n",
        "\n",
        "print('X X')\n",
        "\n",
        "print('X X X')\n",
        "\n",
        ".....\n",
        "\n",
        "print('X X X')\n",
        "\n",
        "print('X X')\n",
        "\n",
        "print('X')\n"
      ]
    },
    {
      "cell_type": "code",
      "source": [
        "for i in range(1,6):\n",
        "  print ('*' *i)\n",
        "for i in range(4,0,-1):\n",
        "  print ('*' *i)"
      ],
      "metadata": {
        "colab": {
          "base_uri": "https://localhost:8080/"
        },
        "id": "4GdEK1DG88Yp",
        "outputId": "208cff90-e77e-40cc-8623-db0c82b034a8"
      },
      "execution_count": null,
      "outputs": [
        {
          "output_type": "stream",
          "name": "stdout",
          "text": [
            "*\n",
            "**\n",
            "***\n",
            "****\n",
            "*****\n",
            "****\n",
            "***\n",
            "**\n",
            "*\n"
          ]
        }
      ]
    },
    {
      "cell_type": "markdown",
      "metadata": {
        "id": "nOAWuH8qp79q"
      },
      "source": [
        "## Exercise 1.2"
      ]
    },
    {
      "cell_type": "markdown",
      "metadata": {
        "id": "Zz2j3lx6qH2K"
      },
      "source": [
        "Write a script that will sum all numbers in the following string. You can split each number into single digits, so for example, you can consider 45 to be 4 and 5"
      ]
    },
    {
      "cell_type": "code",
      "execution_count": null,
      "metadata": {
        "id": "15fJxcCsqBH7",
        "colab": {
          "base_uri": "https://localhost:8080/"
        },
        "outputId": "440f742a-55ea-4472-b5f0-b9d4061c9369"
      },
      "outputs": [
        {
          "output_type": "stream",
          "name": "stdout",
          "text": [
            "34\n"
          ]
        }
      ],
      "source": [
        "input_str = \"n45as29@#8ss6\"\n",
        "res=0\n",
        "for char in input_str:\n",
        "  if char.isdigit():\n",
        "    res += int(char)\n",
        "print(res)"
      ]
    },
    {
      "cell_type": "markdown",
      "metadata": {
        "id": "NjNQc3AXMPmi"
      },
      "source": [
        "## Exercise 1.3"
      ]
    },
    {
      "cell_type": "markdown",
      "metadata": {
        "id": "-algCktYMZ4Q"
      },
      "source": [
        "Write a script that will convert an arbitrary integer to a binary number (the number will be represented as a string with only *0* and *1*). Avoid using the *bin()* function or any other pythons default functions"
      ]
    },
    {
      "cell_type": "code",
      "source": [
        "def fbinary(n):\n",
        "    if n == 0:\n",
        "        return \"0\"\n",
        "    b = \"\"\n",
        "    negative = n < 0\n",
        "    n = abs(n)\n",
        "    while n > 0:\n",
        "        rem = n % 2\n",
        "        b = str(rem) + b\n",
        "        n //= 2\n",
        "    return \"-\" + b if negative else b\n",
        "num = int(input())\n",
        "print(fbinary(num))"
      ],
      "metadata": {
        "colab": {
          "base_uri": "https://localhost:8080/"
        },
        "id": "VE_GTjjr9G-H",
        "outputId": "7e670b41-4458-4587-8f82-04ddd015121f"
      },
      "execution_count": null,
      "outputs": [
        {
          "output_type": "stream",
          "name": "stdout",
          "text": [
            "18\n",
            "10010\n"
          ]
        }
      ]
    },
    {
      "cell_type": "markdown",
      "metadata": {
        "id": "pCSSAjAj0ZlY"
      },
      "source": [
        "## Exercise 1.4 - The Fibonacci Sequence:"
      ]
    },
    {
      "cell_type": "markdown",
      "metadata": {
        "id": "JPgVzgDG1pwt"
      },
      "source": [
        "The Fibonacci Sequence is a series of numbers. The following number is found by adding up the two numbers before it. The first two numbers are 0 and 1. For example, 0, 1, 1, 2, 3, 5, 8, 13. The following number in this series above is 8 + 13 = 21"
      ]
    },
    {
      "cell_type": "markdown",
      "metadata": {
        "id": "uEHzKT7k1sfr"
      },
      "source": [
        "\n",
        "Your task is to implement a function *fibonacci* that takes an integer as an input and returns a list that contains all Fibonacci numbers with values lower than the input integer\n",
        "\n",
        "Example:\n",
        "\n",
        "*print(fibonaci(10))*\n",
        "\n",
        "[0, 1, 1, 2, 3, 5, 8]\n"
      ]
    },
    {
      "cell_type": "code",
      "execution_count": null,
      "metadata": {
        "id": "Lu9nP9hG2VzU",
        "colab": {
          "base_uri": "https://localhost:8080/"
        },
        "outputId": "21f408bc-01d8-4cd5-e504-09ae578b41b4"
      },
      "outputs": [
        {
          "output_type": "stream",
          "name": "stdout",
          "text": [
            "[0, 1, 1, 2, 3, 5, 8]\n"
          ]
        }
      ],
      "source": [
        "def fibonacci(upper_threshold: int) -> list:\n",
        "    if upper_threshold <= 0:\n",
        "        return []\n",
        "    fib = [0, 1]\n",
        "    while True:\n",
        "        next_fib = fib[-2] + fib[-1]\n",
        "        if next_fib >= upper_threshold:\n",
        "            break\n",
        "        fib.append(next_fib)\n",
        "    return fib\n",
        "print(fibonacci(10))"
      ]
    },
    {
      "cell_type": "markdown",
      "metadata": {
        "id": "UfzdSTrb84Vo"
      },
      "source": [
        "#### Advanced"
      ]
    },
    {
      "cell_type": "markdown",
      "metadata": {
        "id": "qk9F-z_484Vo"
      },
      "source": [
        "Try to implement the function using multiple approaches: *Iterative approach*, *Recusrion*, *Memoization*"
      ]
    },
    {
      "cell_type": "markdown",
      "metadata": {
        "id": "eVT1qWQGgXm2"
      },
      "source": [
        "## Exercise 1.5. -  Rock, Paper, Scissors game:"
      ]
    },
    {
      "cell_type": "markdown",
      "metadata": {
        "id": "PRlaWl7B84Vo"
      },
      "source": [
        "#### basic"
      ]
    },
    {
      "cell_type": "markdown",
      "metadata": {
        "id": "LArbk8jE84Vo"
      },
      "source": [
        "*Rock, Paper, Scissors* is a well-known and straightforward game. If you do not know the rules, google them. We will write a code for the Rock, Paper, Scissors game where the user plays against a random computer. The code can be written into one function *rock_paper_scissors*.\n",
        "\n",
        "Notes:\n",
        "- This implementation uses the **random** library to enable the computer to make a random choice.\n",
        "- Keyword **Input** may be helpful. Check it\n",
        "- After the function is run, the program will ask you about your movement, which you type in\n",
        "- The game is case-insensitive for user input (e.g., \"rock\", \"Rock\", and \"ROCK\" are all valid).\n",
        "- This script plays one round of the game.\n",
        "- The script prints the result ('You lose', 'You win', 'It is a tie')\n"
      ]
    },
    {
      "cell_type": "code",
      "execution_count": null,
      "metadata": {
        "colab": {
          "base_uri": "https://localhost:8080/"
        },
        "id": "5L-VLFci84Vo",
        "outputId": "99386324-20c2-4c2c-ff8d-1c6616cf4dce"
      },
      "outputs": [
        {
          "output_type": "stream",
          "name": "stdout",
          "text": [
            "Choose Rock, Paper, or Scissors: paper\n",
            "Computer chose: scissors\n",
            "You lose\n"
          ]
        }
      ],
      "source": [
        "import random\n",
        "def rock_paper_scissors() -> None:\n",
        "    choices = [\"rock\", \"paper\", \"scissors\"]\n",
        "    computer_choice = random.choice(choices)\n",
        "    user_choice = input(\"Choose Rock, Paper, or Scissors: \").strip().lower()\n",
        "    print(f\"Computer chose: {computer_choice}\")\n",
        "    if user_choice == computer_choice:\n",
        "        print(\"It is a tie\")\n",
        "    elif (user_choice == \"rock\" and computer_choice == \"scissors\") or \\\n",
        "         (user_choice == \"paper\" and computer_choice == \"rock\") or \\\n",
        "         (user_choice == \"scissors\" and computer_choice == \"paper\"):\n",
        "        print(\"You win\")\n",
        "    else:\n",
        "        print(\"You lose\")\n",
        "\n",
        "rock_paper_scissors()"
      ]
    },
    {
      "cell_type": "markdown",
      "metadata": {
        "id": "e1ANRWGg84Vo"
      },
      "source": [
        "#### Advanced"
      ]
    },
    {
      "cell_type": "markdown",
      "metadata": {
        "id": "2RTBPSsv84Vo"
      },
      "source": [
        "Extend the Rock, Paper, Scissors game to be able to play *n* rounds.\n",
        "\n",
        "Notes:\n",
        "- The scrips will contain two counters - user score and computer score\n",
        "- After each run, the script prints the current scores and rounds.\n",
        "- When the number of rounds is reached, the script prints the result ('You lose', 'You win', 'It is a tie')"
      ]
    },
    {
      "cell_type": "markdown",
      "metadata": {
        "id": "Tu7yI05aT1y5"
      },
      "source": [
        "# Exercise 2"
      ]
    },
    {
      "cell_type": "markdown",
      "metadata": {
        "id": "uRd_VIFR84Vo"
      },
      "source": [
        "The purpose of this excercise is to practise working with NumPy library"
      ]
    },
    {
      "cell_type": "markdown",
      "metadata": {
        "id": "7GaHLE8Zh8aJ"
      },
      "source": [
        "## Exercise 2.1\n"
      ]
    },
    {
      "cell_type": "markdown",
      "metadata": {
        "id": "lm92bhB_84Vo"
      },
      "source": [
        "In this exercise, you will work with NumPy arrays and learn how to efficiently modify and process them using both loops and vectorized operations. Your task is to:"
      ]
    },
    {
      "cell_type": "markdown",
      "metadata": {
        "id": "ZIyURJ6HZ5Rb"
      },
      "source": [
        "1. Implement the function *create_array_nxn* that generates an n×n NumPy array filled with numbers from n² - 1 down to 0\n",
        "2. Using a loop-based approach (for-loop, while-loop), implement the function *apply_threshold_loop* that takes any NumPy array and replaces all numbers below a user-defined threshold with 0.\n",
        "3. Implement function *apply_threshold_vectorized* that performs the same operation as *apply_threshold_loop*, but without loops, using NumPy vectorized operations\n",
        "4. Implement function *compare_performance* that compares the execution time of functions *apply_threshold_vectorized* and *apply_threshold_loop* with **time** library and print the results\n"
      ]
    },
    {
      "cell_type": "markdown",
      "metadata": {
        "id": "qqsJg56o84Vp"
      },
      "source": [
        "**Additional Notes**:\n",
        "\n",
        "- Ensure n is a positive integer (n > 0).\n",
        "- Use the time library to measure execution times for performance comparison.\n",
        "- The function *compare_performance(n, threshold)* should:\n",
        "    - Generate an n×n array.\n",
        "    - Apply both loop-based and vectorized thresholding.\n",
        "    - Print execution times."
      ]
    },
    {
      "cell_type": "code",
      "execution_count": null,
      "metadata": {
        "id": "ZATHXNeb84Vp"
      },
      "outputs": [],
      "source": [
        "import numpy as np\n",
        "import time"
      ]
    },
    {
      "cell_type": "code",
      "execution_count": null,
      "metadata": {
        "id": "mP7h0c4384Vp"
      },
      "outputs": [],
      "source": [
        "def create_array_nxn(n: int) -> np.ndarray:\n",
        "    if n <= 0:\n",
        "        raise Error\n",
        "    return np.arange(n**2 - 1, -1, -1).reshape(n, n)"
      ]
    },
    {
      "cell_type": "code",
      "execution_count": null,
      "metadata": {
        "id": "c0cNGBob84Vp"
      },
      "outputs": [],
      "source": [
        "def apply_threshold_loop(arr: np.ndarray, threshold: int) -> np.ndarray:\n",
        "    result = arr.copy()\n",
        "    rows, cols = result.shape\n",
        "    for i in range(rows):\n",
        "        for j in range(cols):\n",
        "            if result[i, j] < threshold:\n",
        "                result[i, j] = 0\n",
        "    return result"
      ]
    },
    {
      "cell_type": "code",
      "execution_count": null,
      "metadata": {
        "id": "bLCDa3LP84Vp"
      },
      "outputs": [],
      "source": [
        "def apply_threshold_vectorized(arr: np.ndarray, threshold: int) -> np.ndarray:\n",
        "    result = arr.copy()\n",
        "    result[result < threshold] = 0\n",
        "    return result"
      ]
    },
    {
      "cell_type": "code",
      "execution_count": null,
      "metadata": {
        "id": "Dahu3OTe84Vp",
        "colab": {
          "base_uri": "https://localhost:8080/"
        },
        "outputId": "4fb23116-e01f-4159-f75f-5ab390bc3fc5"
      },
      "outputs": [
        {
          "output_type": "stream",
          "name": "stdout",
          "text": [
            "6\n",
            "15\n",
            "Loop-based time: 0.000028\n",
            "Vectorized time: 0.000032\n"
          ]
        }
      ],
      "source": [
        "def compare_performance(n: int, threshold: int) -> None:\n",
        "    arr = create_array_nxn(n)\n",
        "    start_time = time.time()\n",
        "    loop_result = apply_threshold_loop(arr, threshold)\n",
        "    loop_time = time.time() - start_time\n",
        "    start_time = time.time()\n",
        "    vectorized_result = apply_threshold_vectorized(arr, threshold)\n",
        "    vectorized_time = time.time() - start_time\n",
        "    print(f\"Loop-based time: {loop_time:.6f}\")\n",
        "    print(f\"Vectorized time: {vectorized_time:.6f}\")\n",
        "n=int(input())\n",
        "threshold=int(input())\n",
        "#print(create_array_nxn(n))\n",
        "compare_performance(n, threshold)"
      ]
    },
    {
      "cell_type": "markdown",
      "metadata": {
        "id": "tl_vFRrwiArx"
      },
      "source": [
        "## Exercise 2.2 - Digi display\n",
        "\n",
        "#### basic\n",
        "\n",
        "The task will be to create a simulation of a Digi display that will be able to display an arbitrary integer\n",
        "   \n",
        "*hint: to show the image, use the library matplotlib.pyplot. Also, you may find function *np.concatenate* helpful"
      ]
    },
    {
      "cell_type": "code",
      "execution_count": null,
      "metadata": {
        "id": "ha5_BgE0mxoY"
      },
      "outputs": [],
      "source": [
        "def show_in_digi(input_integer: int) -> None:\n",
        "    digits = [numbs[digit] for digit in str(input_integer)]\n",
        "    display_array = np.hstack(digits)\n",
        "    plt.imshow(display_array, cmap=\"gray_r\")\n",
        "    plt.axis(\"off\")\n",
        "    plt.show()"
      ]
    },
    {
      "cell_type": "code",
      "execution_count": null,
      "metadata": {
        "id": "rs53LhnA84Vp"
      },
      "outputs": [],
      "source": [
        "import matplotlib.pyplot as plt"
      ]
    },
    {
      "cell_type": "markdown",
      "metadata": {
        "id": "pcOmCLI1muSr"
      },
      "source": [
        "show_in_digi(5289) will show:\n"
      ]
    },
    {
      "cell_type": "markdown",
      "metadata": {
        "id": "aHN2vh9dm-S5"
      },
      "source": [
        "![image.png](data:image/png;base64,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)"
      ]
    },
    {
      "cell_type": "markdown",
      "metadata": {
        "id": "e9HM8i1t84Vq"
      },
      "source": [
        "*hint2: you may find the following dict usefull*"
      ]
    },
    {
      "cell_type": "code",
      "execution_count": null,
      "metadata": {
        "id": "mwmFsQRI84Vq"
      },
      "outputs": [],
      "source": [
        "numbs = {\n",
        "      \"1\": np.array([[0, 1, 1], [1, 0, 1], [0, 0, 1], [0, 0, 1], [0, 0, 1]]), # 1\n",
        "      \"2\": np.array([[1, 1, 1], [0, 0, 1], [1, 1, 1], [1, 0, 0], [1, 1, 1]]), # 2\n",
        "      \"3\": np.array([[1, 1, 1], [0, 0, 1], [1, 1, 1], [0, 0, 1], [1, 1, 1]]), # 3\n",
        "      \"4\": np.array([[1, 0, 1], [1, 0, 1], [1, 1, 1], [0, 0, 1], [0, 0, 1]]), # 4\n",
        "      \"5\": np.array([[1, 1, 1], [1, 0, 0], [1, 1, 1], [0, 0, 1], [1, 1, 1]]), # 5\n",
        "      \"6\": np.array([[1, 1, 1], [1, 0, 0], [1, 1, 1], [1, 0, 1], [1, 1, 1]]), # 6\n",
        "      \"7\": np.array([[1, 1, 1], [0, 0, 1], [0, 0, 1], [0, 0, 1], [0, 0, 1]]), # 7\n",
        "      \"8\": np.array([[1, 1, 1], [1, 0, 1], [1, 1, 1], [1, 0, 1], [1, 1, 1]]), # 8\n",
        "      \"9\": np.array([[1, 1, 1], [1, 0, 1], [1, 1, 1], [0, 0, 1], [1, 1, 1]]), # 9\n",
        "      \"0\": np.array([[1, 1, 1], [1, 0, 1], [1, 0, 1], [1, 0, 1], [1, 1, 1]]), # 0\n",
        "  }"
      ]
    },
    {
      "cell_type": "code",
      "source": [
        "num = int(input(\"Enter a number: \"))\n",
        "show_in_digi(num)"
      ],
      "metadata": {
        "colab": {
          "base_uri": "https://localhost:8080/",
          "height": 329
        },
        "id": "hu2Cq2TMQIRf",
        "outputId": "9011e0d1-0424-404e-c6ac-1a5553a183ea"
      },
      "execution_count": null,
      "outputs": [
        {
          "name": "stdout",
          "output_type": "stream",
          "text": [
            "Enter a number: 123\n"
          ]
        },
        {
          "output_type": "display_data",
          "data": {
            "text/plain": [
              "<Figure size 640x480 with 1 Axes>"
            ],
            "image/png": "[encoded data removed]"
          },
          "metadata": {}
        }
      ]
    },
    {
      "cell_type": "markdown",
      "metadata": {
        "id": "nb0B-YF484Vq"
      },
      "source": [
        "#### advanced"
      ]
    },
    {
      "cell_type": "markdown",
      "metadata": {
        "id": "mAI4ikiB84Vr"
      },
      "source": [
        "Extend your *show_in_digi* function to be able to display an arbitary float number and negative numbers"
      ]
    },
    {
      "cell_type": "markdown",
      "metadata": {
        "id": "6s8LqeO6fuS1"
      },
      "source": [
        "# Exercise 3 - Playing with California Housing Dataset"
      ]
    },
    {
      "cell_type": "markdown",
      "metadata": {
        "id": "9MV_c3_3f9V0"
      },
      "source": [
        "The purpose of this exercise is to learn basic operations of **pandas** library. Use *california_housing_dataset* you can find in google colab to do following operations:"
      ]
    },
    {
      "cell_type": "markdown",
      "metadata": {
        "id": "ZctJOSglgYjc"
      },
      "source": [
        "- check what *dataset.describe()* does"
      ]
    },
    {
      "cell_type": "markdown",
      "metadata": {
        "id": "ANvmvaQzpp2k"
      },
      "source": [
        "- display all rows where *total_bedrooms* column is bigger than 310"
      ]
    },
    {
      "cell_type": "markdown",
      "metadata": {
        "id": "AJnkbsLDpcrh"
      },
      "source": [
        "- drop also first and last row"
      ]
    },
    {
      "cell_type": "markdown",
      "metadata": {
        "id": "jjj3NIPGheCC"
      },
      "source": [
        "- save a mean of values in *households* columns to variable, using *matplotlib* display number of households in the graph (x-axis would be ID, y-axis - numbers of households) as dots with the same color, display also mean as a single line in the graph with different color as dots is"
      ]
    },
    {
      "cell_type": "markdown",
      "metadata": {
        "id": "Ga-8a7TFgFDT"
      },
      "source": [
        " - check if any of the columns contain NaN values, if yes, replace the NaN values with the arithmetic mean of the whole dataset"
      ]
    },
    {
      "cell_type": "markdown",
      "metadata": {
        "id": "L6_0MzSRqYK9"
      },
      "source": [
        " - display *lat* and *long* into plot, *lat* would be on *x* axis and *long* on *y* axis"
      ]
    },
    {
      "cell_type": "markdown",
      "metadata": {
        "id": "Eba6rEqcixWl"
      },
      "source": [
        "- choose two arbitrary columns and normalize all values inside using *min-max normalization*:"
      ]
    },
    {
      "cell_type": "markdown",
      "metadata": {
        "id": "nZ5hAWKlpVKK"
      },
      "source": [
        "- Create a Correlation Matrix from all columns"
      ]
    }
  ],
  "metadata": {
    "colab": {
      "provenance": [],
      "include_colab_link": true
    },
    "kernelspec": {
      "display_name": "Python 3 (ipykernel)",
      "language": "python",
      "name": "python3"
    },
    "language_info": {
      "codemirror_mode": {
        "name": "ipython",
        "version": 3
      },
      "file_extension": ".py",
      "mimetype": "text/x-python",
      "name": "python",
      "nbconvert_exporter": "python",
      "pygments_lexer": "ipython3",
      "version": "3.10.12"
    }
  },
  "nbformat": 4,
  "nbformat_minor": 0
}